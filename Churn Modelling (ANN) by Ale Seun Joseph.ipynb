{
 "cells": [
  {
   "cell_type": "markdown",
   "id": "c779bc6a",
   "metadata": {},
   "source": [
    "# ANN to predicted customer's exiting or churning a bank"
   ]
  },
  {
   "cell_type": "markdown",
   "id": "5984979b",
   "metadata": {},
   "source": [
    "Ale Seun Joseph"
   ]
  },
  {
   "cell_type": "code",
   "execution_count": 230,
   "id": "c98c31dc",
   "metadata": {},
   "outputs": [],
   "source": [
    "import tensorflow as tf"
   ]
  },
  {
   "cell_type": "code",
   "execution_count": 231,
   "id": "067a0733",
   "metadata": {},
   "outputs": [],
   "source": [
    "import pandas as pd"
   ]
  },
  {
   "cell_type": "code",
   "execution_count": 232,
   "id": "af686686",
   "metadata": {},
   "outputs": [],
   "source": [
    "df = pd.read_csv(r\"C:\\Users\\USER\\Desktop\\Churn_Modelling.csv\")"
   ]
  },
  {
   "cell_type": "code",
   "execution_count": 233,
   "id": "fd86b3e9",
   "metadata": {},
   "outputs": [
    {
     "data": {
      "text/html": [
       "<div>\n",
       "<style scoped>\n",
       "    .dataframe tbody tr th:only-of-type {\n",
       "        vertical-align: middle;\n",
       "    }\n",
       "\n",
       "    .dataframe tbody tr th {\n",
       "        vertical-align: top;\n",
       "    }\n",
       "\n",
       "    .dataframe thead th {\n",
       "        text-align: right;\n",
       "    }\n",
       "</style>\n",
       "<table border=\"1\" class=\"dataframe\">\n",
       "  <thead>\n",
       "    <tr style=\"text-align: right;\">\n",
       "      <th></th>\n",
       "      <th>RowNumber</th>\n",
       "      <th>CustomerId</th>\n",
       "      <th>Surname</th>\n",
       "      <th>CreditScore</th>\n",
       "      <th>Geography</th>\n",
       "      <th>Gender</th>\n",
       "      <th>Age</th>\n",
       "      <th>Tenure</th>\n",
       "      <th>Balance</th>\n",
       "      <th>NumOfProducts</th>\n",
       "      <th>HasCrCard</th>\n",
       "      <th>IsActiveMember</th>\n",
       "      <th>EstimatedSalary</th>\n",
       "      <th>Exited</th>\n",
       "    </tr>\n",
       "  </thead>\n",
       "  <tbody>\n",
       "    <tr>\n",
       "      <th>0</th>\n",
       "      <td>1</td>\n",
       "      <td>15634602</td>\n",
       "      <td>Hargrave</td>\n",
       "      <td>619</td>\n",
       "      <td>France</td>\n",
       "      <td>Female</td>\n",
       "      <td>42</td>\n",
       "      <td>2</td>\n",
       "      <td>0.00</td>\n",
       "      <td>1</td>\n",
       "      <td>1</td>\n",
       "      <td>1</td>\n",
       "      <td>101348.88</td>\n",
       "      <td>1</td>\n",
       "    </tr>\n",
       "    <tr>\n",
       "      <th>1</th>\n",
       "      <td>2</td>\n",
       "      <td>15647311</td>\n",
       "      <td>Hill</td>\n",
       "      <td>608</td>\n",
       "      <td>Spain</td>\n",
       "      <td>Female</td>\n",
       "      <td>41</td>\n",
       "      <td>1</td>\n",
       "      <td>83807.86</td>\n",
       "      <td>1</td>\n",
       "      <td>0</td>\n",
       "      <td>1</td>\n",
       "      <td>112542.58</td>\n",
       "      <td>0</td>\n",
       "    </tr>\n",
       "    <tr>\n",
       "      <th>2</th>\n",
       "      <td>3</td>\n",
       "      <td>15619304</td>\n",
       "      <td>Onio</td>\n",
       "      <td>502</td>\n",
       "      <td>France</td>\n",
       "      <td>Female</td>\n",
       "      <td>42</td>\n",
       "      <td>8</td>\n",
       "      <td>159660.80</td>\n",
       "      <td>3</td>\n",
       "      <td>1</td>\n",
       "      <td>0</td>\n",
       "      <td>113931.57</td>\n",
       "      <td>1</td>\n",
       "    </tr>\n",
       "    <tr>\n",
       "      <th>3</th>\n",
       "      <td>4</td>\n",
       "      <td>15701354</td>\n",
       "      <td>Boni</td>\n",
       "      <td>699</td>\n",
       "      <td>France</td>\n",
       "      <td>Female</td>\n",
       "      <td>39</td>\n",
       "      <td>1</td>\n",
       "      <td>0.00</td>\n",
       "      <td>2</td>\n",
       "      <td>0</td>\n",
       "      <td>0</td>\n",
       "      <td>93826.63</td>\n",
       "      <td>0</td>\n",
       "    </tr>\n",
       "    <tr>\n",
       "      <th>4</th>\n",
       "      <td>5</td>\n",
       "      <td>15737888</td>\n",
       "      <td>Mitchell</td>\n",
       "      <td>850</td>\n",
       "      <td>Spain</td>\n",
       "      <td>Female</td>\n",
       "      <td>43</td>\n",
       "      <td>2</td>\n",
       "      <td>125510.82</td>\n",
       "      <td>1</td>\n",
       "      <td>1</td>\n",
       "      <td>1</td>\n",
       "      <td>79084.10</td>\n",
       "      <td>0</td>\n",
       "    </tr>\n",
       "  </tbody>\n",
       "</table>\n",
       "</div>"
      ],
      "text/plain": [
       "   RowNumber  CustomerId   Surname  CreditScore Geography  Gender  Age  \\\n",
       "0          1    15634602  Hargrave          619    France  Female   42   \n",
       "1          2    15647311      Hill          608     Spain  Female   41   \n",
       "2          3    15619304      Onio          502    France  Female   42   \n",
       "3          4    15701354      Boni          699    France  Female   39   \n",
       "4          5    15737888  Mitchell          850     Spain  Female   43   \n",
       "\n",
       "   Tenure    Balance  NumOfProducts  HasCrCard  IsActiveMember  \\\n",
       "0       2       0.00              1          1               1   \n",
       "1       1   83807.86              1          0               1   \n",
       "2       8  159660.80              3          1               0   \n",
       "3       1       0.00              2          0               0   \n",
       "4       2  125510.82              1          1               1   \n",
       "\n",
       "   EstimatedSalary  Exited  \n",
       "0        101348.88       1  \n",
       "1        112542.58       0  \n",
       "2        113931.57       1  \n",
       "3         93826.63       0  \n",
       "4         79084.10       0  "
      ]
     },
     "execution_count": 233,
     "metadata": {},
     "output_type": "execute_result"
    }
   ],
   "source": [
    "df.head()"
   ]
  },
  {
   "cell_type": "markdown",
   "id": "0103f3b0",
   "metadata": {},
   "source": [
    "Statement of problem: Based on the features given, we want to predict whether a customer will exist the bank or stay."
   ]
  },
  {
   "cell_type": "code",
   "execution_count": 234,
   "id": "f4a02995",
   "metadata": {},
   "outputs": [],
   "source": [
    "## Dividing the dataset into independent and dependent features\n",
    "## Exited is the dependent feature, while all others are dependent features\n",
    "##RowNumber, CustomerId and Surname are Irrelevant features\n",
    "X = df.iloc[:,3:13] ##meaning all the rows starting from 3 to 13\n",
    "y = df.iloc[:,13] ##meaning all the rows but only output column 13"
   ]
  },
  {
   "cell_type": "code",
   "execution_count": 235,
   "id": "c5cd0055",
   "metadata": {},
   "outputs": [
    {
     "data": {
      "text/html": [
       "<div>\n",
       "<style scoped>\n",
       "    .dataframe tbody tr th:only-of-type {\n",
       "        vertical-align: middle;\n",
       "    }\n",
       "\n",
       "    .dataframe tbody tr th {\n",
       "        vertical-align: top;\n",
       "    }\n",
       "\n",
       "    .dataframe thead th {\n",
       "        text-align: right;\n",
       "    }\n",
       "</style>\n",
       "<table border=\"1\" class=\"dataframe\">\n",
       "  <thead>\n",
       "    <tr style=\"text-align: right;\">\n",
       "      <th></th>\n",
       "      <th>CreditScore</th>\n",
       "      <th>Geography</th>\n",
       "      <th>Gender</th>\n",
       "      <th>Age</th>\n",
       "      <th>Tenure</th>\n",
       "      <th>Balance</th>\n",
       "      <th>NumOfProducts</th>\n",
       "      <th>HasCrCard</th>\n",
       "      <th>IsActiveMember</th>\n",
       "      <th>EstimatedSalary</th>\n",
       "    </tr>\n",
       "  </thead>\n",
       "  <tbody>\n",
       "    <tr>\n",
       "      <th>0</th>\n",
       "      <td>619</td>\n",
       "      <td>France</td>\n",
       "      <td>Female</td>\n",
       "      <td>42</td>\n",
       "      <td>2</td>\n",
       "      <td>0.00</td>\n",
       "      <td>1</td>\n",
       "      <td>1</td>\n",
       "      <td>1</td>\n",
       "      <td>101348.88</td>\n",
       "    </tr>\n",
       "    <tr>\n",
       "      <th>1</th>\n",
       "      <td>608</td>\n",
       "      <td>Spain</td>\n",
       "      <td>Female</td>\n",
       "      <td>41</td>\n",
       "      <td>1</td>\n",
       "      <td>83807.86</td>\n",
       "      <td>1</td>\n",
       "      <td>0</td>\n",
       "      <td>1</td>\n",
       "      <td>112542.58</td>\n",
       "    </tr>\n",
       "    <tr>\n",
       "      <th>2</th>\n",
       "      <td>502</td>\n",
       "      <td>France</td>\n",
       "      <td>Female</td>\n",
       "      <td>42</td>\n",
       "      <td>8</td>\n",
       "      <td>159660.80</td>\n",
       "      <td>3</td>\n",
       "      <td>1</td>\n",
       "      <td>0</td>\n",
       "      <td>113931.57</td>\n",
       "    </tr>\n",
       "    <tr>\n",
       "      <th>3</th>\n",
       "      <td>699</td>\n",
       "      <td>France</td>\n",
       "      <td>Female</td>\n",
       "      <td>39</td>\n",
       "      <td>1</td>\n",
       "      <td>0.00</td>\n",
       "      <td>2</td>\n",
       "      <td>0</td>\n",
       "      <td>0</td>\n",
       "      <td>93826.63</td>\n",
       "    </tr>\n",
       "    <tr>\n",
       "      <th>4</th>\n",
       "      <td>850</td>\n",
       "      <td>Spain</td>\n",
       "      <td>Female</td>\n",
       "      <td>43</td>\n",
       "      <td>2</td>\n",
       "      <td>125510.82</td>\n",
       "      <td>1</td>\n",
       "      <td>1</td>\n",
       "      <td>1</td>\n",
       "      <td>79084.10</td>\n",
       "    </tr>\n",
       "  </tbody>\n",
       "</table>\n",
       "</div>"
      ],
      "text/plain": [
       "   CreditScore Geography  Gender  Age  Tenure    Balance  NumOfProducts  \\\n",
       "0          619    France  Female   42       2       0.00              1   \n",
       "1          608     Spain  Female   41       1   83807.86              1   \n",
       "2          502    France  Female   42       8  159660.80              3   \n",
       "3          699    France  Female   39       1       0.00              2   \n",
       "4          850     Spain  Female   43       2  125510.82              1   \n",
       "\n",
       "   HasCrCard  IsActiveMember  EstimatedSalary  \n",
       "0          1               1        101348.88  \n",
       "1          0               1        112542.58  \n",
       "2          1               0        113931.57  \n",
       "3          0               0         93826.63  \n",
       "4          1               1         79084.10  "
      ]
     },
     "execution_count": 235,
     "metadata": {},
     "output_type": "execute_result"
    }
   ],
   "source": [
    "X.head()"
   ]
  },
  {
   "cell_type": "code",
   "execution_count": 236,
   "id": "84d5e765",
   "metadata": {},
   "outputs": [
    {
     "data": {
      "text/plain": [
       "0    1\n",
       "1    0\n",
       "2    1\n",
       "3    0\n",
       "4    0\n",
       "Name: Exited, dtype: int64"
      ]
     },
     "execution_count": 236,
     "metadata": {},
     "output_type": "execute_result"
    }
   ],
   "source": [
    "y.head()"
   ]
  },
  {
   "cell_type": "code",
   "execution_count": 237,
   "id": "f9139791",
   "metadata": {},
   "outputs": [
    {
     "data": {
      "text/plain": [
       "(10000, 14)"
      ]
     },
     "execution_count": 237,
     "metadata": {},
     "output_type": "execute_result"
    }
   ],
   "source": [
    "df.shape"
   ]
  },
  {
   "cell_type": "code",
   "execution_count": 238,
   "id": "0319406c",
   "metadata": {},
   "outputs": [
    {
     "name": "stdout",
     "output_type": "stream",
     "text": [
      "3\n"
     ]
    }
   ],
   "source": [
    "## Feature engineering\n",
    "##Handling the categorical features using one hot encoding\n",
    "count_unique = X['Geography']. nunique()\n",
    "print(count_unique )"
   ]
  },
  {
   "cell_type": "code",
   "execution_count": 239,
   "id": "79191698",
   "metadata": {},
   "outputs": [
    {
     "data": {
      "text/html": [
       "<div>\n",
       "<style scoped>\n",
       "    .dataframe tbody tr th:only-of-type {\n",
       "        vertical-align: middle;\n",
       "    }\n",
       "\n",
       "    .dataframe tbody tr th {\n",
       "        vertical-align: top;\n",
       "    }\n",
       "\n",
       "    .dataframe thead th {\n",
       "        text-align: right;\n",
       "    }\n",
       "</style>\n",
       "<table border=\"1\" class=\"dataframe\">\n",
       "  <thead>\n",
       "    <tr style=\"text-align: right;\">\n",
       "      <th></th>\n",
       "      <th>France</th>\n",
       "      <th>Germany</th>\n",
       "      <th>Spain</th>\n",
       "    </tr>\n",
       "  </thead>\n",
       "  <tbody>\n",
       "    <tr>\n",
       "      <th>0</th>\n",
       "      <td>1</td>\n",
       "      <td>0</td>\n",
       "      <td>0</td>\n",
       "    </tr>\n",
       "    <tr>\n",
       "      <th>1</th>\n",
       "      <td>0</td>\n",
       "      <td>0</td>\n",
       "      <td>1</td>\n",
       "    </tr>\n",
       "    <tr>\n",
       "      <th>2</th>\n",
       "      <td>1</td>\n",
       "      <td>0</td>\n",
       "      <td>0</td>\n",
       "    </tr>\n",
       "    <tr>\n",
       "      <th>3</th>\n",
       "      <td>1</td>\n",
       "      <td>0</td>\n",
       "      <td>0</td>\n",
       "    </tr>\n",
       "    <tr>\n",
       "      <th>4</th>\n",
       "      <td>0</td>\n",
       "      <td>0</td>\n",
       "      <td>1</td>\n",
       "    </tr>\n",
       "    <tr>\n",
       "      <th>...</th>\n",
       "      <td>...</td>\n",
       "      <td>...</td>\n",
       "      <td>...</td>\n",
       "    </tr>\n",
       "    <tr>\n",
       "      <th>9995</th>\n",
       "      <td>1</td>\n",
       "      <td>0</td>\n",
       "      <td>0</td>\n",
       "    </tr>\n",
       "    <tr>\n",
       "      <th>9996</th>\n",
       "      <td>1</td>\n",
       "      <td>0</td>\n",
       "      <td>0</td>\n",
       "    </tr>\n",
       "    <tr>\n",
       "      <th>9997</th>\n",
       "      <td>1</td>\n",
       "      <td>0</td>\n",
       "      <td>0</td>\n",
       "    </tr>\n",
       "    <tr>\n",
       "      <th>9998</th>\n",
       "      <td>0</td>\n",
       "      <td>1</td>\n",
       "      <td>0</td>\n",
       "    </tr>\n",
       "    <tr>\n",
       "      <th>9999</th>\n",
       "      <td>1</td>\n",
       "      <td>0</td>\n",
       "      <td>0</td>\n",
       "    </tr>\n",
       "  </tbody>\n",
       "</table>\n",
       "<p>10000 rows × 3 columns</p>\n",
       "</div>"
      ],
      "text/plain": [
       "      France  Germany  Spain\n",
       "0          1        0      0\n",
       "1          0        0      1\n",
       "2          1        0      0\n",
       "3          1        0      0\n",
       "4          0        0      1\n",
       "...      ...      ...    ...\n",
       "9995       1        0      0\n",
       "9996       1        0      0\n",
       "9997       1        0      0\n",
       "9998       0        1      0\n",
       "9999       1        0      0\n",
       "\n",
       "[10000 rows x 3 columns]"
      ]
     },
     "execution_count": 239,
     "metadata": {},
     "output_type": "execute_result"
    }
   ],
   "source": [
    "pd.get_dummies(X['Geography'])"
   ]
  },
  {
   "cell_type": "code",
   "execution_count": 240,
   "id": "653e1c65",
   "metadata": {},
   "outputs": [
    {
     "data": {
      "text/html": [
       "<div>\n",
       "<style scoped>\n",
       "    .dataframe tbody tr th:only-of-type {\n",
       "        vertical-align: middle;\n",
       "    }\n",
       "\n",
       "    .dataframe tbody tr th {\n",
       "        vertical-align: top;\n",
       "    }\n",
       "\n",
       "    .dataframe thead th {\n",
       "        text-align: right;\n",
       "    }\n",
       "</style>\n",
       "<table border=\"1\" class=\"dataframe\">\n",
       "  <thead>\n",
       "    <tr style=\"text-align: right;\">\n",
       "      <th></th>\n",
       "      <th>Germany</th>\n",
       "      <th>Spain</th>\n",
       "    </tr>\n",
       "  </thead>\n",
       "  <tbody>\n",
       "    <tr>\n",
       "      <th>0</th>\n",
       "      <td>0</td>\n",
       "      <td>0</td>\n",
       "    </tr>\n",
       "    <tr>\n",
       "      <th>1</th>\n",
       "      <td>0</td>\n",
       "      <td>1</td>\n",
       "    </tr>\n",
       "    <tr>\n",
       "      <th>2</th>\n",
       "      <td>0</td>\n",
       "      <td>0</td>\n",
       "    </tr>\n",
       "    <tr>\n",
       "      <th>3</th>\n",
       "      <td>0</td>\n",
       "      <td>0</td>\n",
       "    </tr>\n",
       "    <tr>\n",
       "      <th>4</th>\n",
       "      <td>0</td>\n",
       "      <td>1</td>\n",
       "    </tr>\n",
       "    <tr>\n",
       "      <th>...</th>\n",
       "      <td>...</td>\n",
       "      <td>...</td>\n",
       "    </tr>\n",
       "    <tr>\n",
       "      <th>9995</th>\n",
       "      <td>0</td>\n",
       "      <td>0</td>\n",
       "    </tr>\n",
       "    <tr>\n",
       "      <th>9996</th>\n",
       "      <td>0</td>\n",
       "      <td>0</td>\n",
       "    </tr>\n",
       "    <tr>\n",
       "      <th>9997</th>\n",
       "      <td>0</td>\n",
       "      <td>0</td>\n",
       "    </tr>\n",
       "    <tr>\n",
       "      <th>9998</th>\n",
       "      <td>1</td>\n",
       "      <td>0</td>\n",
       "    </tr>\n",
       "    <tr>\n",
       "      <th>9999</th>\n",
       "      <td>0</td>\n",
       "      <td>0</td>\n",
       "    </tr>\n",
       "  </tbody>\n",
       "</table>\n",
       "<p>10000 rows × 2 columns</p>\n",
       "</div>"
      ],
      "text/plain": [
       "      Germany  Spain\n",
       "0           0      0\n",
       "1           0      1\n",
       "2           0      0\n",
       "3           0      0\n",
       "4           0      1\n",
       "...       ...    ...\n",
       "9995        0      0\n",
       "9996        0      0\n",
       "9997        0      0\n",
       "9998        1      0\n",
       "9999        0      0\n",
       "\n",
       "[10000 rows x 2 columns]"
      ]
     },
     "execution_count": 240,
     "metadata": {},
     "output_type": "execute_result"
    }
   ],
   "source": [
    "pd.get_dummies(X['Geography'], drop_first = True)## We can reduce it to just two column, since the values,\n",
    "##of two already reveals what the third will be"
   ]
  },
  {
   "cell_type": "code",
   "execution_count": 241,
   "id": "9332e476",
   "metadata": {},
   "outputs": [],
   "source": [
    "## creating a variable for it\n",
    "geography = pd.get_dummies(X['Geography'], drop_first = True)"
   ]
  },
  {
   "cell_type": "code",
   "execution_count": 242,
   "id": "feb3948e",
   "metadata": {},
   "outputs": [],
   "source": [
    "## similarly for geder\n",
    "gender = pd.get_dummies(X['Gender'], drop_first = True)"
   ]
  },
  {
   "cell_type": "code",
   "execution_count": 243,
   "id": "88a0d7a3",
   "metadata": {},
   "outputs": [],
   "source": [
    "## cocatenating the two variables with the dataframe\n",
    "X = X.drop(['Geography', 'Gender'], axis = 1)##first we drop the initial ones, axis=1 implies drop only the column"
   ]
  },
  {
   "cell_type": "code",
   "execution_count": 244,
   "id": "942dd127",
   "metadata": {},
   "outputs": [
    {
     "data": {
      "text/html": [
       "<div>\n",
       "<style scoped>\n",
       "    .dataframe tbody tr th:only-of-type {\n",
       "        vertical-align: middle;\n",
       "    }\n",
       "\n",
       "    .dataframe tbody tr th {\n",
       "        vertical-align: top;\n",
       "    }\n",
       "\n",
       "    .dataframe thead th {\n",
       "        text-align: right;\n",
       "    }\n",
       "</style>\n",
       "<table border=\"1\" class=\"dataframe\">\n",
       "  <thead>\n",
       "    <tr style=\"text-align: right;\">\n",
       "      <th></th>\n",
       "      <th>CreditScore</th>\n",
       "      <th>Age</th>\n",
       "      <th>Tenure</th>\n",
       "      <th>Balance</th>\n",
       "      <th>NumOfProducts</th>\n",
       "      <th>HasCrCard</th>\n",
       "      <th>IsActiveMember</th>\n",
       "      <th>EstimatedSalary</th>\n",
       "    </tr>\n",
       "  </thead>\n",
       "  <tbody>\n",
       "    <tr>\n",
       "      <th>0</th>\n",
       "      <td>619</td>\n",
       "      <td>42</td>\n",
       "      <td>2</td>\n",
       "      <td>0.00</td>\n",
       "      <td>1</td>\n",
       "      <td>1</td>\n",
       "      <td>1</td>\n",
       "      <td>101348.88</td>\n",
       "    </tr>\n",
       "    <tr>\n",
       "      <th>1</th>\n",
       "      <td>608</td>\n",
       "      <td>41</td>\n",
       "      <td>1</td>\n",
       "      <td>83807.86</td>\n",
       "      <td>1</td>\n",
       "      <td>0</td>\n",
       "      <td>1</td>\n",
       "      <td>112542.58</td>\n",
       "    </tr>\n",
       "    <tr>\n",
       "      <th>2</th>\n",
       "      <td>502</td>\n",
       "      <td>42</td>\n",
       "      <td>8</td>\n",
       "      <td>159660.80</td>\n",
       "      <td>3</td>\n",
       "      <td>1</td>\n",
       "      <td>0</td>\n",
       "      <td>113931.57</td>\n",
       "    </tr>\n",
       "    <tr>\n",
       "      <th>3</th>\n",
       "      <td>699</td>\n",
       "      <td>39</td>\n",
       "      <td>1</td>\n",
       "      <td>0.00</td>\n",
       "      <td>2</td>\n",
       "      <td>0</td>\n",
       "      <td>0</td>\n",
       "      <td>93826.63</td>\n",
       "    </tr>\n",
       "    <tr>\n",
       "      <th>4</th>\n",
       "      <td>850</td>\n",
       "      <td>43</td>\n",
       "      <td>2</td>\n",
       "      <td>125510.82</td>\n",
       "      <td>1</td>\n",
       "      <td>1</td>\n",
       "      <td>1</td>\n",
       "      <td>79084.10</td>\n",
       "    </tr>\n",
       "  </tbody>\n",
       "</table>\n",
       "</div>"
      ],
      "text/plain": [
       "   CreditScore  Age  Tenure    Balance  NumOfProducts  HasCrCard  \\\n",
       "0          619   42       2       0.00              1          1   \n",
       "1          608   41       1   83807.86              1          0   \n",
       "2          502   42       8  159660.80              3          1   \n",
       "3          699   39       1       0.00              2          0   \n",
       "4          850   43       2  125510.82              1          1   \n",
       "\n",
       "   IsActiveMember  EstimatedSalary  \n",
       "0               1        101348.88  \n",
       "1               1        112542.58  \n",
       "2               0        113931.57  \n",
       "3               0         93826.63  \n",
       "4               1         79084.10  "
      ]
     },
     "execution_count": 244,
     "metadata": {},
     "output_type": "execute_result"
    }
   ],
   "source": [
    "X.head()"
   ]
  },
  {
   "cell_type": "code",
   "execution_count": 245,
   "id": "f0063dec",
   "metadata": {},
   "outputs": [
    {
     "data": {
      "text/html": [
       "<div>\n",
       "<style scoped>\n",
       "    .dataframe tbody tr th:only-of-type {\n",
       "        vertical-align: middle;\n",
       "    }\n",
       "\n",
       "    .dataframe tbody tr th {\n",
       "        vertical-align: top;\n",
       "    }\n",
       "\n",
       "    .dataframe thead th {\n",
       "        text-align: right;\n",
       "    }\n",
       "</style>\n",
       "<table border=\"1\" class=\"dataframe\">\n",
       "  <thead>\n",
       "    <tr style=\"text-align: right;\">\n",
       "      <th></th>\n",
       "      <th>CreditScore</th>\n",
       "      <th>Age</th>\n",
       "      <th>Tenure</th>\n",
       "      <th>Balance</th>\n",
       "      <th>NumOfProducts</th>\n",
       "      <th>HasCrCard</th>\n",
       "      <th>IsActiveMember</th>\n",
       "      <th>EstimatedSalary</th>\n",
       "      <th>Germany</th>\n",
       "      <th>Spain</th>\n",
       "      <th>Male</th>\n",
       "    </tr>\n",
       "  </thead>\n",
       "  <tbody>\n",
       "    <tr>\n",
       "      <th>0</th>\n",
       "      <td>619</td>\n",
       "      <td>42</td>\n",
       "      <td>2</td>\n",
       "      <td>0.00</td>\n",
       "      <td>1</td>\n",
       "      <td>1</td>\n",
       "      <td>1</td>\n",
       "      <td>101348.88</td>\n",
       "      <td>0</td>\n",
       "      <td>0</td>\n",
       "      <td>0</td>\n",
       "    </tr>\n",
       "    <tr>\n",
       "      <th>1</th>\n",
       "      <td>608</td>\n",
       "      <td>41</td>\n",
       "      <td>1</td>\n",
       "      <td>83807.86</td>\n",
       "      <td>1</td>\n",
       "      <td>0</td>\n",
       "      <td>1</td>\n",
       "      <td>112542.58</td>\n",
       "      <td>0</td>\n",
       "      <td>1</td>\n",
       "      <td>0</td>\n",
       "    </tr>\n",
       "    <tr>\n",
       "      <th>2</th>\n",
       "      <td>502</td>\n",
       "      <td>42</td>\n",
       "      <td>8</td>\n",
       "      <td>159660.80</td>\n",
       "      <td>3</td>\n",
       "      <td>1</td>\n",
       "      <td>0</td>\n",
       "      <td>113931.57</td>\n",
       "      <td>0</td>\n",
       "      <td>0</td>\n",
       "      <td>0</td>\n",
       "    </tr>\n",
       "    <tr>\n",
       "      <th>3</th>\n",
       "      <td>699</td>\n",
       "      <td>39</td>\n",
       "      <td>1</td>\n",
       "      <td>0.00</td>\n",
       "      <td>2</td>\n",
       "      <td>0</td>\n",
       "      <td>0</td>\n",
       "      <td>93826.63</td>\n",
       "      <td>0</td>\n",
       "      <td>0</td>\n",
       "      <td>0</td>\n",
       "    </tr>\n",
       "    <tr>\n",
       "      <th>4</th>\n",
       "      <td>850</td>\n",
       "      <td>43</td>\n",
       "      <td>2</td>\n",
       "      <td>125510.82</td>\n",
       "      <td>1</td>\n",
       "      <td>1</td>\n",
       "      <td>1</td>\n",
       "      <td>79084.10</td>\n",
       "      <td>0</td>\n",
       "      <td>1</td>\n",
       "      <td>0</td>\n",
       "    </tr>\n",
       "    <tr>\n",
       "      <th>...</th>\n",
       "      <td>...</td>\n",
       "      <td>...</td>\n",
       "      <td>...</td>\n",
       "      <td>...</td>\n",
       "      <td>...</td>\n",
       "      <td>...</td>\n",
       "      <td>...</td>\n",
       "      <td>...</td>\n",
       "      <td>...</td>\n",
       "      <td>...</td>\n",
       "      <td>...</td>\n",
       "    </tr>\n",
       "    <tr>\n",
       "      <th>9995</th>\n",
       "      <td>771</td>\n",
       "      <td>39</td>\n",
       "      <td>5</td>\n",
       "      <td>0.00</td>\n",
       "      <td>2</td>\n",
       "      <td>1</td>\n",
       "      <td>0</td>\n",
       "      <td>96270.64</td>\n",
       "      <td>0</td>\n",
       "      <td>0</td>\n",
       "      <td>1</td>\n",
       "    </tr>\n",
       "    <tr>\n",
       "      <th>9996</th>\n",
       "      <td>516</td>\n",
       "      <td>35</td>\n",
       "      <td>10</td>\n",
       "      <td>57369.61</td>\n",
       "      <td>1</td>\n",
       "      <td>1</td>\n",
       "      <td>1</td>\n",
       "      <td>101699.77</td>\n",
       "      <td>0</td>\n",
       "      <td>0</td>\n",
       "      <td>1</td>\n",
       "    </tr>\n",
       "    <tr>\n",
       "      <th>9997</th>\n",
       "      <td>709</td>\n",
       "      <td>36</td>\n",
       "      <td>7</td>\n",
       "      <td>0.00</td>\n",
       "      <td>1</td>\n",
       "      <td>0</td>\n",
       "      <td>1</td>\n",
       "      <td>42085.58</td>\n",
       "      <td>0</td>\n",
       "      <td>0</td>\n",
       "      <td>0</td>\n",
       "    </tr>\n",
       "    <tr>\n",
       "      <th>9998</th>\n",
       "      <td>772</td>\n",
       "      <td>42</td>\n",
       "      <td>3</td>\n",
       "      <td>75075.31</td>\n",
       "      <td>2</td>\n",
       "      <td>1</td>\n",
       "      <td>0</td>\n",
       "      <td>92888.52</td>\n",
       "      <td>1</td>\n",
       "      <td>0</td>\n",
       "      <td>1</td>\n",
       "    </tr>\n",
       "    <tr>\n",
       "      <th>9999</th>\n",
       "      <td>792</td>\n",
       "      <td>28</td>\n",
       "      <td>4</td>\n",
       "      <td>130142.79</td>\n",
       "      <td>1</td>\n",
       "      <td>1</td>\n",
       "      <td>0</td>\n",
       "      <td>38190.78</td>\n",
       "      <td>0</td>\n",
       "      <td>0</td>\n",
       "      <td>0</td>\n",
       "    </tr>\n",
       "  </tbody>\n",
       "</table>\n",
       "<p>10000 rows × 11 columns</p>\n",
       "</div>"
      ],
      "text/plain": [
       "      CreditScore  Age  Tenure    Balance  NumOfProducts  HasCrCard  \\\n",
       "0             619   42       2       0.00              1          1   \n",
       "1             608   41       1   83807.86              1          0   \n",
       "2             502   42       8  159660.80              3          1   \n",
       "3             699   39       1       0.00              2          0   \n",
       "4             850   43       2  125510.82              1          1   \n",
       "...           ...  ...     ...        ...            ...        ...   \n",
       "9995          771   39       5       0.00              2          1   \n",
       "9996          516   35      10   57369.61              1          1   \n",
       "9997          709   36       7       0.00              1          0   \n",
       "9998          772   42       3   75075.31              2          1   \n",
       "9999          792   28       4  130142.79              1          1   \n",
       "\n",
       "      IsActiveMember  EstimatedSalary  Germany  Spain  Male  \n",
       "0                  1        101348.88        0      0     0  \n",
       "1                  1        112542.58        0      1     0  \n",
       "2                  0        113931.57        0      0     0  \n",
       "3                  0         93826.63        0      0     0  \n",
       "4                  1         79084.10        0      1     0  \n",
       "...              ...              ...      ...    ...   ...  \n",
       "9995               0         96270.64        0      0     1  \n",
       "9996               1        101699.77        0      0     1  \n",
       "9997               1         42085.58        0      0     0  \n",
       "9998               0         92888.52        1      0     1  \n",
       "9999               0         38190.78        0      0     0  \n",
       "\n",
       "[10000 rows x 11 columns]"
      ]
     },
     "execution_count": 245,
     "metadata": {},
     "output_type": "execute_result"
    }
   ],
   "source": [
    "pd.concat([X,geography,gender],axis = 1)"
   ]
  },
  {
   "cell_type": "code",
   "execution_count": 246,
   "id": "e0f5d0e5",
   "metadata": {},
   "outputs": [],
   "source": [
    "X = pd.concat([X,geography,gender],axis = 1) ## assigning the new X to variable X"
   ]
  },
  {
   "cell_type": "markdown",
   "id": "c8cea4fd",
   "metadata": {},
   "source": [
    "Splitting the dataset into training and test set"
   ]
  },
  {
   "cell_type": "code",
   "execution_count": 247,
   "id": "7e5488de",
   "metadata": {},
   "outputs": [],
   "source": [
    "from sklearn.model_selection import train_test_split\n",
    "X_train,X_test,y_train,y_test = train_test_split(X,y, test_size=0.2, random_state = 0)"
   ]
  },
  {
   "cell_type": "markdown",
   "id": "849fa3a0",
   "metadata": {},
   "source": [
    "feature scaling"
   ]
  },
  {
   "cell_type": "code",
   "execution_count": 248,
   "id": "e29c39b4",
   "metadata": {},
   "outputs": [],
   "source": [
    "from sklearn.preprocessing import StandardScaler\n",
    "sc = StandardScaler()"
   ]
  },
  {
   "cell_type": "code",
   "execution_count": 249,
   "id": "2b18bb27",
   "metadata": {},
   "outputs": [],
   "source": [
    "X_train = sc.fit_transform(X_train)\n",
    "X_test = sc.transform(X_test)"
   ]
  },
  {
   "cell_type": "code",
   "execution_count": 250,
   "id": "7d1c06b5",
   "metadata": {},
   "outputs": [
    {
     "data": {
      "text/plain": [
       "array([[ 0.16958176, -0.46460796,  0.00666099, ..., -0.5698444 ,\n",
       "         1.74309049, -1.09168714],\n",
       "       [-2.30455945,  0.30102557, -1.37744033, ...,  1.75486502,\n",
       "        -0.57369368,  0.91601335],\n",
       "       [-1.19119591, -0.94312892, -1.031415  , ..., -0.5698444 ,\n",
       "        -0.57369368, -1.09168714],\n",
       "       ...,\n",
       "       [ 0.9015152 , -0.36890377,  0.00666099, ..., -0.5698444 ,\n",
       "        -0.57369368,  0.91601335],\n",
       "       [-0.62420521, -0.08179119,  1.39076231, ..., -0.5698444 ,\n",
       "         1.74309049, -1.09168714],\n",
       "       [-0.28401079,  0.87525072, -1.37744033, ...,  1.75486502,\n",
       "        -0.57369368, -1.09168714]])"
      ]
     },
     "execution_count": 250,
     "metadata": {},
     "output_type": "execute_result"
    }
   ],
   "source": [
    "X_train"
   ]
  },
  {
   "cell_type": "code",
   "execution_count": 251,
   "id": "4af88bea",
   "metadata": {},
   "outputs": [
    {
     "data": {
      "text/plain": [
       "array([[-0.55204276, -0.36890377,  1.04473698, ...,  1.75486502,\n",
       "        -0.57369368, -1.09168714],\n",
       "       [-1.31490297,  0.10961719, -1.031415  , ..., -0.5698444 ,\n",
       "        -0.57369368, -1.09168714],\n",
       "       [ 0.57162971,  0.30102557,  1.04473698, ..., -0.5698444 ,\n",
       "         1.74309049, -1.09168714],\n",
       "       ...,\n",
       "       [-0.74791227, -0.27319958, -1.37744033, ..., -0.5698444 ,\n",
       "         1.74309049,  0.91601335],\n",
       "       [-0.00566991, -0.46460796, -0.33936434, ...,  1.75486502,\n",
       "        -0.57369368,  0.91601335],\n",
       "       [-0.79945688, -0.84742473,  1.04473698, ...,  1.75486502,\n",
       "        -0.57369368,  0.91601335]])"
      ]
     },
     "execution_count": 251,
     "metadata": {},
     "output_type": "execute_result"
    }
   ],
   "source": [
    "X_test"
   ]
  },
  {
   "cell_type": "markdown",
   "id": "d7a9dc1a",
   "metadata": {},
   "source": [
    "Both the training and test set has been transformed"
   ]
  },
  {
   "cell_type": "code",
   "execution_count": 252,
   "id": "ed1581b6",
   "metadata": {},
   "outputs": [
    {
     "data": {
      "text/plain": [
       "(8000, 11)"
      ]
     },
     "execution_count": 252,
     "metadata": {},
     "output_type": "execute_result"
    }
   ],
   "source": [
    "X_train.shape"
   ]
  },
  {
   "cell_type": "markdown",
   "id": "763b1ede",
   "metadata": {},
   "source": [
    "Creating the ANN"
   ]
  },
  {
   "cell_type": "code",
   "execution_count": 253,
   "id": "f3dda2d1",
   "metadata": {},
   "outputs": [],
   "source": [
    "from tensorflow.keras.models import Sequential"
   ]
  },
  {
   "cell_type": "code",
   "execution_count": 254,
   "id": "13c4c108",
   "metadata": {},
   "outputs": [],
   "source": [
    "from tensorflow.keras.layers import Dense"
   ]
  },
  {
   "cell_type": "code",
   "execution_count": 255,
   "id": "41b71b69",
   "metadata": {},
   "outputs": [],
   "source": [
    "from tensorflow.keras.layers import LeakyReLU, PReLU, ELU, ReLU"
   ]
  },
  {
   "cell_type": "code",
   "execution_count": 256,
   "id": "6bb042b6",
   "metadata": {},
   "outputs": [],
   "source": [
    "from tensorflow.keras.layers import Dropout"
   ]
  },
  {
   "cell_type": "code",
   "execution_count": 257,
   "id": "371b7d70",
   "metadata": {},
   "outputs": [],
   "source": [
    "##Initializing the ANN\n",
    "classifier =  Sequential()"
   ]
  },
  {
   "cell_type": "code",
   "execution_count": 258,
   "id": "c53655ce",
   "metadata": {},
   "outputs": [],
   "source": [
    "classifier.add(Dense(units=11, activation='relu'))#nos. of units is the number of input layer which is \n",
    "#number of columns in X_train"
   ]
  },
  {
   "cell_type": "code",
   "execution_count": 259,
   "id": "f02df4d3",
   "metadata": {},
   "outputs": [],
   "source": [
    "##Add the first hidden layer\n",
    "classifier.add(Dense(units=8, activation='relu'))\n",
    "classifier.add(Dropout(0.2))\n",
    "## depending on numbers of neurons you want\n",
    "##although there are techniques for computing nos. of neurons in each hidden layers"
   ]
  },
  {
   "cell_type": "code",
   "execution_count": 260,
   "id": "c777aae5",
   "metadata": {},
   "outputs": [],
   "source": [
    "##Add the second hidden layer\n",
    "classifier.add(Dense(units=7, activation='relu'))\n",
    "classifier.add(Dropout(0.3))"
   ]
  },
  {
   "cell_type": "code",
   "execution_count": 261,
   "id": "ed2daba2",
   "metadata": {},
   "outputs": [],
   "source": [
    "##Add the output layer\n",
    "classifier.add(Dense(units=1, activation='sigmoid'))"
   ]
  },
  {
   "cell_type": "code",
   "execution_count": 262,
   "id": "c0547a28",
   "metadata": {},
   "outputs": [],
   "source": [
    "classifier.compile(optimizer='adam', loss='binary_crossentropy',metrics=['accuracy'])"
   ]
  },
  {
   "cell_type": "markdown",
   "id": "577e087f",
   "metadata": {},
   "source": [
    "NB: by default adam uses learning rate of 0.1 to vary it, we use;"
   ]
  },
  {
   "cell_type": "code",
   "execution_count": 263,
   "id": "09ea370b",
   "metadata": {},
   "outputs": [],
   "source": [
    "opt = tf.keras.optimizers.Adam(learning_rate=0.01)"
   ]
  },
  {
   "cell_type": "code",
   "execution_count": 264,
   "id": "a69aa2ea",
   "metadata": {},
   "outputs": [],
   "source": [
    "##effecting it\n",
    "\n",
    "classifier.compile(optimizer=opt, loss='binary_crossentropy',metrics=['accuracy'])"
   ]
  },
  {
   "cell_type": "code",
   "execution_count": 265,
   "id": "385eb05d",
   "metadata": {},
   "outputs": [],
   "source": [
    "##early_stopping means stop training when a monitored metric has stopped improving\n",
    "early_stopping = tf.keras.callbacks.EarlyStopping(\n",
    "    monitor=\"val_loss\",\n",
    "    min_delta=0.0001,\n",
    "    patience=20,\n",
    "    verbose=1,\n",
    "    mode=\"auto\",\n",
    "    baseline=None,\n",
    "    restore_best_weights=False,\n",
    ")"
   ]
  },
  {
   "cell_type": "code",
   "execution_count": 266,
   "id": "e272f2b7",
   "metadata": {},
   "outputs": [
    {
     "name": "stdout",
     "output_type": "stream",
     "text": [
      "Epoch 1/1000\n",
      "536/536 [==============================] - 4s 5ms/step - loss: 0.4904 - accuracy: 0.7934 - val_loss: 0.4456 - val_accuracy: 0.7952\n",
      "Epoch 2/1000\n",
      "536/536 [==============================] - 2s 4ms/step - loss: 0.4396 - accuracy: 0.8043 - val_loss: 0.4067 - val_accuracy: 0.8217\n",
      "Epoch 3/1000\n",
      "536/536 [==============================] - 2s 3ms/step - loss: 0.4139 - accuracy: 0.8162 - val_loss: 0.3977 - val_accuracy: 0.8254\n",
      "Epoch 4/1000\n",
      "536/536 [==============================] - 2s 4ms/step - loss: 0.3925 - accuracy: 0.8308 - val_loss: 0.3768 - val_accuracy: 0.8406\n",
      "Epoch 5/1000\n",
      "536/536 [==============================] - 2s 3ms/step - loss: 0.3866 - accuracy: 0.8304 - val_loss: 0.3782 - val_accuracy: 0.8425\n",
      "Epoch 6/1000\n",
      "536/536 [==============================] - 2s 3ms/step - loss: 0.3860 - accuracy: 0.8364 - val_loss: 0.3776 - val_accuracy: 0.8451\n",
      "Epoch 7/1000\n",
      "536/536 [==============================] - 2s 3ms/step - loss: 0.3793 - accuracy: 0.8412 - val_loss: 0.3690 - val_accuracy: 0.8580\n",
      "Epoch 8/1000\n",
      "536/536 [==============================] - 2s 3ms/step - loss: 0.3812 - accuracy: 0.8384 - val_loss: 0.3738 - val_accuracy: 0.8413\n",
      "Epoch 9/1000\n",
      "536/536 [==============================] - 2s 4ms/step - loss: 0.3777 - accuracy: 0.8304 - val_loss: 0.3709 - val_accuracy: 0.8489\n",
      "Epoch 10/1000\n",
      "536/536 [==============================] - 2s 4ms/step - loss: 0.3793 - accuracy: 0.8362 - val_loss: 0.3735 - val_accuracy: 0.8542\n",
      "Epoch 11/1000\n",
      "536/536 [==============================] - 2s 4ms/step - loss: 0.3773 - accuracy: 0.8343 - val_loss: 0.3806 - val_accuracy: 0.8538\n",
      "Epoch 12/1000\n",
      "536/536 [==============================] - 2s 4ms/step - loss: 0.3793 - accuracy: 0.8382 - val_loss: 0.3694 - val_accuracy: 0.8501\n",
      "Epoch 13/1000\n",
      "536/536 [==============================] - 2s 4ms/step - loss: 0.3777 - accuracy: 0.8360 - val_loss: 0.3674 - val_accuracy: 0.8535\n",
      "Epoch 14/1000\n",
      "536/536 [==============================] - 2s 4ms/step - loss: 0.3700 - accuracy: 0.8345 - val_loss: 0.3718 - val_accuracy: 0.8508\n",
      "Epoch 15/1000\n",
      "536/536 [==============================] - 2s 4ms/step - loss: 0.3678 - accuracy: 0.8352 - val_loss: 0.3699 - val_accuracy: 0.8550\n",
      "Epoch 16/1000\n",
      "536/536 [==============================] - 2s 4ms/step - loss: 0.3690 - accuracy: 0.8395 - val_loss: 0.3756 - val_accuracy: 0.8485\n",
      "Epoch 17/1000\n",
      "536/536 [==============================] - 2s 4ms/step - loss: 0.3656 - accuracy: 0.8393 - val_loss: 0.3713 - val_accuracy: 0.8482\n",
      "Epoch 18/1000\n",
      "536/536 [==============================] - 2s 5ms/step - loss: 0.3657 - accuracy: 0.8397 - val_loss: 0.3685 - val_accuracy: 0.8573\n",
      "Epoch 19/1000\n",
      "536/536 [==============================] - 2s 4ms/step - loss: 0.3729 - accuracy: 0.8375 - val_loss: 0.3880 - val_accuracy: 0.8470\n",
      "Epoch 20/1000\n",
      "536/536 [==============================] - 2s 4ms/step - loss: 0.3733 - accuracy: 0.8375 - val_loss: 0.3655 - val_accuracy: 0.8535\n",
      "Epoch 21/1000\n",
      "536/536 [==============================] - 2s 4ms/step - loss: 0.3685 - accuracy: 0.8360 - val_loss: 0.3669 - val_accuracy: 0.8542\n",
      "Epoch 22/1000\n",
      "536/536 [==============================] - 2s 4ms/step - loss: 0.3638 - accuracy: 0.8406 - val_loss: 0.3835 - val_accuracy: 0.8527\n",
      "Epoch 23/1000\n",
      "536/536 [==============================] - 2s 4ms/step - loss: 0.3786 - accuracy: 0.8377 - val_loss: 0.3684 - val_accuracy: 0.8573\n",
      "Epoch 24/1000\n",
      "536/536 [==============================] - 2s 4ms/step - loss: 0.3703 - accuracy: 0.8390 - val_loss: 0.3839 - val_accuracy: 0.8493\n",
      "Epoch 25/1000\n",
      "536/536 [==============================] - 2s 4ms/step - loss: 0.3689 - accuracy: 0.8388 - val_loss: 0.3771 - val_accuracy: 0.8546\n",
      "Epoch 26/1000\n",
      "536/536 [==============================] - 2s 4ms/step - loss: 0.3702 - accuracy: 0.8371 - val_loss: 0.3749 - val_accuracy: 0.8569\n",
      "Epoch 27/1000\n",
      "536/536 [==============================] - 2s 4ms/step - loss: 0.3648 - accuracy: 0.8343 - val_loss: 0.3741 - val_accuracy: 0.8584\n",
      "Epoch 28/1000\n",
      "536/536 [==============================] - 2s 4ms/step - loss: 0.3655 - accuracy: 0.8371 - val_loss: 0.3811 - val_accuracy: 0.8573\n",
      "Epoch 29/1000\n",
      "536/536 [==============================] - 2s 4ms/step - loss: 0.3700 - accuracy: 0.8339 - val_loss: 0.3707 - val_accuracy: 0.8512\n",
      "Epoch 30/1000\n",
      "536/536 [==============================] - 2s 4ms/step - loss: 0.3709 - accuracy: 0.8350 - val_loss: 0.3750 - val_accuracy: 0.8554\n",
      "Epoch 31/1000\n",
      "536/536 [==============================] - 2s 4ms/step - loss: 0.3702 - accuracy: 0.8337 - val_loss: 0.3748 - val_accuracy: 0.8538\n",
      "Epoch 32/1000\n",
      "536/536 [==============================] - 2s 4ms/step - loss: 0.3678 - accuracy: 0.8375 - val_loss: 0.3733 - val_accuracy: 0.8504\n",
      "Epoch 33/1000\n",
      "536/536 [==============================] - 2s 4ms/step - loss: 0.3668 - accuracy: 0.8365 - val_loss: 0.3833 - val_accuracy: 0.8519\n",
      "Epoch 34/1000\n",
      "536/536 [==============================] - 2s 4ms/step - loss: 0.3590 - accuracy: 0.8403 - val_loss: 0.3833 - val_accuracy: 0.8501\n",
      "Epoch 35/1000\n",
      "536/536 [==============================] - 2s 4ms/step - loss: 0.3667 - accuracy: 0.8386 - val_loss: 0.3803 - val_accuracy: 0.8550\n",
      "Epoch 36/1000\n",
      "536/536 [==============================] - 2s 5ms/step - loss: 0.3670 - accuracy: 0.8386 - val_loss: 0.3879 - val_accuracy: 0.8531\n",
      "Epoch 37/1000\n",
      "536/536 [==============================] - 2s 4ms/step - loss: 0.3619 - accuracy: 0.8401 - val_loss: 0.3847 - val_accuracy: 0.8542\n",
      "Epoch 38/1000\n",
      "536/536 [==============================] - 2s 4ms/step - loss: 0.3619 - accuracy: 0.8395 - val_loss: 0.3832 - val_accuracy: 0.8554\n",
      "Epoch 39/1000\n",
      "536/536 [==============================] - 2s 4ms/step - loss: 0.3707 - accuracy: 0.8375 - val_loss: 0.3732 - val_accuracy: 0.8523\n",
      "Epoch 40/1000\n",
      "536/536 [==============================] - 2s 4ms/step - loss: 0.3624 - accuracy: 0.8395 - val_loss: 0.3780 - val_accuracy: 0.8493\n",
      "Epoch 40: early stopping\n"
     ]
    }
   ],
   "source": [
    "model_history = classifier.fit(X_train,y_train,validation_split=0.33,batch_size=10,epochs=1000, callbacks=early_stopping)"
   ]
  },
  {
   "cell_type": "code",
   "execution_count": 267,
   "id": "d72baeff",
   "metadata": {},
   "outputs": [
    {
     "data": {
      "text/plain": [
       "dict_keys(['loss', 'accuracy', 'val_loss', 'val_accuracy'])"
      ]
     },
     "execution_count": 267,
     "metadata": {},
     "output_type": "execute_result"
    }
   ],
   "source": [
    "model_history.history.keys()"
   ]
  },
  {
   "cell_type": "code",
   "execution_count": 268,
   "id": "d8505d8f",
   "metadata": {},
   "outputs": [
    {
     "data": {
      "image/png": "[encoded data removed]",
      "text/plain": [
       "<Figure size 432x288 with 1 Axes>"
      ]
     },
     "metadata": {
      "needs_background": "light"
     },
     "output_type": "display_data"
    }
   ],
   "source": [
    "## Summary history for accuracy\n",
    "import matplotlib.pyplot as plt\n",
    "%matplotlib inline\n",
    "plt.plot(model_history.history['accuracy'])\n",
    "plt.plot(model_history.history['val_accuracy'])\n",
    "plt.title('Model Accuracy')\n",
    "plt.xlabel('Epoch')\n",
    "plt.legend(['train', 'test'], loc = 'upper left')\n",
    "plt.show()"
   ]
  },
  {
   "cell_type": "code",
   "execution_count": 269,
   "id": "11118364",
   "metadata": {},
   "outputs": [
    {
     "data": {
      "image/png": "[encoded data removed]",
      "text/plain": [
       "<Figure size 432x288 with 1 Axes>"
      ]
     },
     "metadata": {
      "needs_background": "light"
     },
     "output_type": "display_data"
    }
   ],
   "source": [
    "## without early stopping\n",
    "plt.plot(model_history.history['loss'])\n",
    "plt.plot(model_history.history['val_loss'])\n",
    "plt.title('Loss')\n",
    "plt.xlabel('Epoch')\n",
    "plt.legend(['train', 'test'], loc = 'upper left')\n",
    "plt.show()"
   ]
  },
  {
   "cell_type": "code",
   "execution_count": 270,
   "id": "f701aff0",
   "metadata": {},
   "outputs": [
    {
     "name": "stdout",
     "output_type": "stream",
     "text": [
      "63/63 [==============================] - 0s 2ms/step\n"
     ]
    }
   ],
   "source": [
    "y_pred = classifier.predict(X_test)\n",
    "y_pred = (y_pred >= 0.5)"
   ]
  },
  {
   "cell_type": "code",
   "execution_count": 271,
   "id": "b5ff6a9b",
   "metadata": {},
   "outputs": [
    {
     "data": {
      "text/plain": [
       "array([[1521,   74],\n",
       "       [ 208,  197]], dtype=int64)"
      ]
     },
     "execution_count": 271,
     "metadata": {},
     "output_type": "execute_result"
    }
   ],
   "source": [
    "## construct confusion matrix\n",
    "from sklearn.metrics import confusion_matrix\n",
    "cm = confusion_matrix(y_test,y_pred)\n",
    "cm"
   ]
  },
  {
   "cell_type": "code",
   "execution_count": 272,
   "id": "03ffef01",
   "metadata": {},
   "outputs": [],
   "source": [
    "## compute the accuracy\n",
    "from sklearn.metrics import accuracy_score\n",
    "score = accuracy_score(y_pred,y_test)"
   ]
  },
  {
   "cell_type": "code",
   "execution_count": 273,
   "id": "e4b3c0d4",
   "metadata": {},
   "outputs": [
    {
     "data": {
      "text/plain": [
       "0.859"
      ]
     },
     "execution_count": 273,
     "metadata": {},
     "output_type": "execute_result"
    }
   ],
   "source": [
    "score"
   ]
  },
  {
   "cell_type": "markdown",
   "id": "f31142a4",
   "metadata": {},
   "source": [
    "This gives 86% accuracy"
   ]
  },
  {
   "cell_type": "code",
   "execution_count": 274,
   "id": "b66646aa",
   "metadata": {},
   "outputs": [
    {
     "data": {
      "text/plain": [
       "[array([[-2.5518566e-02, -5.6276017e-01, -4.0810055e-01,  1.1608982e-01,\n",
       "         -3.6950356e-01,  2.1613653e+00,  1.5288538e-01,  6.1996603e-01,\n",
       "          1.3241422e-01, -4.6557549e-01,  2.7622297e-01],\n",
       "        [ 9.9701244e-01,  1.1402258e+00, -3.5773087e-01,  2.1683927e+00,\n",
       "          1.2132745e+00, -6.4615959e-01, -2.5758553e+00, -9.2811847e-01,\n",
       "         -3.6639307e-02,  4.4750464e-01, -1.6093172e+00],\n",
       "        [-1.3319248e-01,  4.9032843e-01,  5.8750671e-01,  4.6702185e-01,\n",
       "          9.2178190e-01,  1.1868890e-01,  3.2315731e-01,  7.7751553e-01,\n",
       "          4.8131503e-02,  2.6825878e-01,  1.5180098e-01],\n",
       "        [ 1.0463942e+00, -1.4054559e-01, -1.1856434e+00, -4.1228604e-01,\n",
       "         -5.5850857e-01,  2.4256407e-01, -8.0689102e-02, -2.3458545e+00,\n",
       "          1.6411616e-01, -3.0266633e+00,  2.3785911e+00],\n",
       "        [ 4.0831008e+00, -7.1190512e-01, -2.6309758e-01, -3.3143842e-01,\n",
       "         -4.8276739e+00, -7.1248108e-01, -7.3625147e-01,  1.6487280e-01,\n",
       "          3.4311883e-02, -1.4570234e+00, -2.3910277e-01],\n",
       "        [-2.3507072e-01,  3.2308906e-02,  4.2316124e-01, -3.8744569e-02,\n",
       "         -6.0088152e-01,  9.7457725e-01, -2.1126856e-01, -8.6695719e-01,\n",
       "          7.4421734e-02, -3.4461394e-02,  7.1859723e-01],\n",
       "        [-2.6891747e-01,  2.7591939e+00,  2.1329174e+00,  8.7234616e-01,\n",
       "         -1.1643758e+00,  1.3028524e+00, -3.9400819e-01, -1.5789326e-01,\n",
       "          2.4800065e-01,  2.3824418e-01, -2.5374040e-01],\n",
       "        [-6.3995220e-02, -3.8031596e-01,  9.3722367e-01,  4.1827786e-01,\n",
       "          3.3735174e-01,  8.9955825e-01, -1.0507988e-01, -9.8188215e-01,\n",
       "          5.8915652e-02,  4.2664117e-01,  5.3690642e-01],\n",
       "        [-5.5389237e-01, -9.7091931e-01,  7.9489225e-01, -1.9106254e-01,\n",
       "          2.9527536e-01, -1.3048948e-01, -1.2699044e+00,  5.7467955e-01,\n",
       "          3.3096336e-02, -7.2634339e-01,  9.8555344e-01],\n",
       "        [ 9.5590234e-02,  4.4551453e-01,  3.5810781e-01,  3.2683402e-01,\n",
       "         -2.0630383e-01,  1.2261269e+00, -1.7546846e-01, -3.5328346e-01,\n",
       "          1.7597970e-01,  2.4304973e-01,  5.7470286e-01],\n",
       "        [ 3.1996706e-01,  2.9696597e-02,  8.9648205e-01,  3.1004336e-01,\n",
       "          1.3700715e-01,  1.8651704e-03,  3.3030486e-01,  1.6592907e+00,\n",
       "          2.5401976e-02, -5.2671652e-02, -3.4844810e-01]], dtype=float32),\n",
       " array([-3.0166361, -1.8176085, -2.044931 , -4.2876306,  0.8800429,\n",
       "        -2.505912 ,  2.9031432, -2.6480541, -1.2363443, -1.7039298,\n",
       "        -2.8333726], dtype=float32),\n",
       " array([[-0.89707345, -1.0650078 , -0.60160756, -0.31832433, -0.86205333,\n",
       "          2.3404887 , -0.7911903 ,  2.2335806 ],\n",
       "        [-0.38910115,  0.08266529, -0.6022886 , -0.37407944,  0.16088465,\n",
       "         -1.7032177 ,  0.4602682 , -0.99124485],\n",
       "        [ 1.0639349 ,  0.6538365 ,  0.8282084 ,  0.35805696,  0.01602877,\n",
       "         -1.003426  ,  0.14789313, -0.03200698],\n",
       "        [ 1.3263007 , -0.8491525 ,  1.8278604 ,  1.0960851 ,  0.8940927 ,\n",
       "         -1.5269206 , -1.5598296 , -1.9080596 ],\n",
       "        [-2.3397262 , -0.44383407, -3.6069279 , -3.2221365 , -3.0904808 ,\n",
       "          0.99438643, -0.53285974,  1.0198065 ],\n",
       "        [-1.1111557 ,  0.80125254,  0.6218108 , -1.6449171 ,  1.0825123 ,\n",
       "         -0.5613924 ,  0.6240083 , -1.404303  ],\n",
       "        [-0.13572069,  0.8165651 , -0.08276505, -0.04096587, -0.03925911,\n",
       "         -1.9378182 ,  0.6476152 , -1.5375777 ],\n",
       "        [ 1.5737644 ,  0.33552176,  1.7863106 ,  1.5239218 ,  1.149595  ,\n",
       "         -1.2763208 ,  0.06772035, -1.5025855 ],\n",
       "        [-0.47898057, -0.01663329, -0.08704048, -0.12540577,  0.08515861,\n",
       "          0.21021691,  0.49688676, -0.09251496],\n",
       "        [ 0.30325013, -1.3230228 ,  0.8673007 ,  1.2459579 ,  0.6421913 ,\n",
       "          0.6359704 , -1.0796144 ,  0.78517944],\n",
       "        [ 0.6123721 , -1.5395697 ,  0.279427  ,  1.0581242 , -1.2004727 ,\n",
       "         -0.973723  , -1.2432876 , -0.3700647 ]], dtype=float32),\n",
       " array([-0.1497967 ,  0.06051174, -0.15500107, -0.0326314 , -0.3153512 ,\n",
       "        -1.2608451 ,  0.37336496, -1.5043236 ], dtype=float32),\n",
       " array([[-1.55857337e+00,  6.46016538e-01,  2.58693218e-01,\n",
       "          4.07225996e-01,  3.16128582e-01,  3.83974224e-01,\n",
       "          3.40294808e-01],\n",
       "        [-7.47785807e-01,  2.14137152e-01,  1.10469714e-01,\n",
       "          2.58021355e-01,  1.51929259e-01,  2.05616027e-01,\n",
       "          2.68909514e-01],\n",
       "        [-1.12721729e+00,  1.75114408e-01,  3.68123025e-01,\n",
       "          3.94865647e-02,  2.07267940e-01,  2.96725422e-01,\n",
       "          7.02301502e-01],\n",
       "        [-1.65705633e+00,  2.67653525e-01,  2.19295353e-01,\n",
       "          2.20418096e-01,  4.87522364e-01,  3.01691502e-01,\n",
       "          2.38163754e-01],\n",
       "        [-6.87041998e-01,  5.87049663e-01,  2.78997064e-01,\n",
       "          2.80248046e-01,  2.93668598e-01,  1.71083480e-01,\n",
       "          1.67876080e-01],\n",
       "        [ 4.69289452e-01, -3.51285720e+00, -1.54037321e+00,\n",
       "         -1.32910013e+00, -8.48609567e-01, -1.35393894e+00,\n",
       "         -1.03911650e+00],\n",
       "        [-3.52416009e-01,  2.20852673e-01,  8.45941082e-02,\n",
       "          3.10947443e-03,  2.57114977e-01,  1.63431093e-01,\n",
       "          8.52862671e-02],\n",
       "        [ 3.92527103e-01, -1.01858401e+00, -1.17092919e+00,\n",
       "         -1.34607780e+00, -3.42770517e-01, -8.58643353e-01,\n",
       "         -3.95797163e-01]], dtype=float32),\n",
       " array([-1.1343015 ,  0.63051957,  0.53606725,  0.6350242 ,  0.769091  ,\n",
       "         0.8390769 ,  0.8854194 ], dtype=float32),\n",
       " array([[ 0.3204491 ],\n",
       "        [-0.2149678 ],\n",
       "        [-0.0945757 ],\n",
       "        [-0.15756297],\n",
       "        [-0.19497257],\n",
       "        [-0.20488487],\n",
       "        [-0.17958808]], dtype=float32),\n",
       " array([-0.2287408], dtype=float32)]"
      ]
     },
     "execution_count": 274,
     "metadata": {},
     "output_type": "execute_result"
    }
   ],
   "source": [
    "## to get the assigned weights\n",
    "classifier.get_weights()"
   ]
  },
  {
   "cell_type": "code",
   "execution_count": 275,
   "id": "2789d345",
   "metadata": {},
   "outputs": [],
   "source": [
    "import pickle"
   ]
  },
  {
   "cell_type": "code",
   "execution_count": 278,
   "id": "5e59653e",
   "metadata": {},
   "outputs": [
    {
     "name": "stdout",
     "output_type": "stream",
     "text": [
      "INFO:tensorflow:Assets written to: ram://588741fb-b575-4d29-b1c6-53e0db5be8de/assets\n"
     ]
    }
   ],
   "source": [
    "#to store the data in a file\n",
    "pickle.dump(model_history, open('model_history.pkl', 'wb'))"
   ]
  },
  {
   "cell_type": "code",
   "execution_count": 279,
   "id": "13ea842a",
   "metadata": {},
   "outputs": [
    {
     "name": "stdout",
     "output_type": "stream",
     "text": [
      "INFO:tensorflow:Assets written to: ram://a91e8655-c4d7-4f54-93d3-bfec39b76ac3/assets\n"
     ]
    }
   ],
   "source": [
    "pickle.dump(model_history, open('model_history.pkl', 'wb'))"
   ]
  },
  {
   "cell_type": "markdown",
   "id": "12a3e54d",
   "metadata": {},
   "source": [
    "                                                                                    Ale Seun Joseph:\n",
    "                                                                                    +2348161369964\n",
    "                                                                                    aleseun@yahoo.com"
   ]
  },
  {
   "cell_type": "code",
   "execution_count": null,
   "id": "44369aa5",
   "metadata": {},
   "outputs": [],
   "source": []
  }
 ],
 "metadata": {
  "kernelspec": {
   "display_name": "Python 3 (ipykernel)",
   "language": "python",
   "name": "python3"
  },
  "language_info": {
   "codemirror_mode": {
    "name": "ipython",
    "version": 3
   },
   "file_extension": ".py",
   "mimetype": "text/x-python",
   "name": "python",
   "nbconvert_exporter": "python",
   "pygments_lexer": "ipython3",
   "version": "3.9.7"
  }
 },
 "nbformat": 4,
 "nbformat_minor": 5
}
